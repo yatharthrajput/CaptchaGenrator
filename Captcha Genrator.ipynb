{
 "cells": [
  {
   "cell_type": "code",
   "execution_count": 1,
   "id": "b16a6c31",
   "metadata": {},
   "outputs": [
    {
     "name": "stdout",
     "output_type": "stream",
     "text": [
      "Collecting captcha\n",
      "  Downloading captcha-0.3-py3-none-any.whl (101 kB)\n",
      "Requirement already satisfied: Pillow in c:\\users\\yatha\\anaconda3\\lib\\site-packages (from captcha) (8.2.0)\n",
      "Installing collected packages: captcha\n",
      "Successfully installed captcha-0.3\n",
      "Note: you may need to restart the kernel to use updated packages.\n"
     ]
    }
   ],
   "source": [
    "pip install captcha"
   ]
  },
  {
   "cell_type": "code",
   "execution_count": 2,
   "id": "69c0ca44",
   "metadata": {},
   "outputs": [],
   "source": [
    "from captcha.image import ImageCaptcha\n",
    " \n",
    "# Create an image instance of the given size\n",
    "image = ImageCaptcha(width = 280, height = 90)\n",
    " \n",
    "# Image captcha text\n",
    "captcha_text = 'GeeksforGeeks' \n",
    " \n",
    "# generate the image of the given text\n",
    "data = image.generate(captcha_text) \n",
    " \n",
    "# write the image on the given file and save it\n",
    "image.write(captcha_text, 'CAPTCHA.png')"
   ]
  },
  {
   "cell_type": "markdown",
   "id": "f7b8f82e",
   "metadata": {},
   "source": [
    "# Generating Audio captcha"
   ]
  },
  {
   "cell_type": "code",
   "execution_count": 5,
   "id": "8b8085e9",
   "metadata": {},
   "outputs": [
    {
     "data": {
      "text/plain": [
       "72452"
      ]
     },
     "execution_count": 5,
     "metadata": {},
     "output_type": "execute_result"
    }
   ],
   "source": [
    "\n",
    "# Import the following modules\n",
    "from captcha.audio import AudioCaptcha\n",
    " \n",
    "# Create an audio instance\n",
    "audio = AudioCaptcha() \n",
    " \n",
    "# Audio captcha text\n",
    "captcha_text = \"5454\"\n",
    " \n",
    "# generate the audio of the given text\n",
    "audio_data = audio.generate(captcha_text)\n",
    " \n",
    "# Give the name of the audio file\n",
    "audio_file = \"audio\"+captcha_text+'.wav'\n",
    " \n",
    "# Finally write the audio file and save it\n",
    "audio.write(captcha_text, audio_file)"
   ]
  },
  {
   "cell_type": "code",
   "execution_count": null,
   "id": "44f5cdc9",
   "metadata": {},
   "outputs": [],
   "source": []
  },
  {
   "cell_type": "code",
   "execution_count": null,
   "id": "03f79aee",
   "metadata": {},
   "outputs": [],
   "source": []
  }
 ],
 "metadata": {
  "kernelspec": {
   "display_name": "Python 3",
   "language": "python",
   "name": "python3"
  },
  "language_info": {
   "codemirror_mode": {
    "name": "ipython",
    "version": 3
   },
   "file_extension": ".py",
   "mimetype": "text/x-python",
   "name": "python",
   "nbconvert_exporter": "python",
   "pygments_lexer": "ipython3",
   "version": "3.8.8"
  }
 },
 "nbformat": 4,
 "nbformat_minor": 5
}
